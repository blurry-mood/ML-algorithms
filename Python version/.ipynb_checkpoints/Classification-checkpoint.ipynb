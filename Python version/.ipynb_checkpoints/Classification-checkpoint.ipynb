{
 "cells": [
  {
   "cell_type": "code",
   "execution_count": 1,
   "metadata": {},
   "outputs": [],
   "source": [
    "from copy import copy\n",
    "import pandas as pd\n",
    "import matplotlib.pyplot as plt\n",
    "import numpy as np\n",
    "%matplotlib inline"
   ]
  },
  {
   "cell_type": "code",
   "execution_count": 2,
   "metadata": {},
   "outputs": [],
   "source": [
    "data=pd.read_csv(\"Classification.csv\")\n",
    "# adding bias component to the data;\n",
    "data['bias']=1\n",
    "# Change label from 0/1 to -1/1\n",
    "data.y=data.y.apply(lambda t:2*t-1)\n",
    "def split_data(data,frac=.8):\n",
    "    # shuffle data\n",
    "    data=data.sample(frac=1)\n",
    "    x=data.drop('y',axis=1).to_numpy()\n",
    "    y=np.reshape(data.y.to_numpy(),(x.shape[0],1))\n",
    "    #splitting \n",
    "    split=int(frac*data.shape[0])\n",
    "    train_data,train_label,test_data,test_label=x[:split],y[:split],x[split:],y[split:]\n",
    "    return (train_data,train_label,test_data,test_label)"
   ]
  },
  {
   "cell_type": "code",
   "execution_count": 3,
   "metadata": {},
   "outputs": [
    {
     "name": "stdout",
     "output_type": "stream",
     "text": [
      "Number of features:  2\n",
      "Number of classes:  2\n",
      "231  training examples.\n",
      "69  testing examples.\n",
      "Dataset contains missing values? False\n"
     ]
    }
   ],
   "source": [
    "# q1\n",
    "train_data,train_label,test_data,test_label=split_data(data,frac=.77)\n",
    "print(\"Number of features: \",train_data.shape[1]-1)\n",
    "print(\"Number of classes: \", len(data.y.unique()))\n",
    "print(train_data.shape[0], \" training examples.\")\n",
    "print(test_data.shape[0], \" testing examples.\")\n",
    "print(\"Dataset contains missing values?\",data.isnull().values.any())"
   ]
  },
  {
   "cell_type": "code",
   "execution_count": 4,
   "metadata": {},
   "outputs": [
    {
     "data": {
      "image/png": "[encoded data removed]",
      "text/plain": [
       "<Figure size 432x288 with 1 Axes>"
      ]
     },
     "metadata": {
      "needs_background": "light"
     },
     "output_type": "display_data"
    }
   ],
   "source": [
    "#q2\n",
    "colors = {-1:'b', 1:'r'}\n",
    "fig,ax=plt.subplots()\n",
    "for i in range(data.shape[0]):\n",
    "    ax.scatter(data.x_1[i],data.x_2[i],color=colors[data.y[i]])\n",
    "plt.savefig('data.png')\n",
    "plt.show()"
   ]
  },
  {
   "cell_type": "code",
   "execution_count": 5,
   "metadata": {},
   "outputs": [
    {
     "name": "stdout",
     "output_type": "stream",
     "text": [
      "Training error:  0.0\n",
      "Accuracy of model (1- generalization error) : 1.0\n"
     ]
    }
   ],
   "source": [
    "#q5\n",
    "def perceptron(X,y):\n",
    "    # Note: y should be -1 and 1 array!\n",
    "    w=np.random.rand(X.shape[1],1)\n",
    "    while np.sum(X.dot(w)*y<=0)!=0:\n",
    "        for i in range(X.shape[0]):\n",
    "            if X[i].dot(w)*y[i]<0:\n",
    "                w=w+y[i][0]*np.vstack(X[i])\n",
    "    return w\n",
    "w_perceptron=perceptron(train_data,train_label)\n",
    "print(\"Training error: \",\n",
    "      np.sum(train_data.dot(w_perceptron)*train_label<=0)/train_data.shape[0])\n",
    "print(\"Accuracy of model (1- generalization error) :\", \n",
    "      np.sum(test_data.dot(w_perceptron)*test_label>0)/test_data.shape[0])"
   ]
  },
  {
   "cell_type": "markdown",
   "metadata": {},
   "source": [
    "## From now on, the data variable contains the noisy labels"
   ]
  },
  {
   "cell_type": "code",
   "execution_count": 6,
   "metadata": {},
   "outputs": [
    {
     "data": {
      "image/png": "[encoded data removed]",
      "text/plain": [
       "<Figure size 432x288 with 1 Axes>"
      ]
     },
     "metadata": {
      "needs_background": "light"
     },
     "output_type": "display_data"
    }
   ],
   "source": [
    "# q6: disturbing data.\n",
    "class1_size=data.groupby('y').size()[-1]\n",
    "indices=data.loc[data.y==-1,:].index\n",
    "indices_to_disturb=np.random.choice(indices,round(class1_size*0.07),replace=False)\n",
    "data.loc[indices_to_disturb,'y']=1\n",
    "# Split data\n",
    "train_data,train_label,test_data,test_label=split_data(data,frac=.77)\n",
    "# Plot data\n",
    "colors = {-1:'b', 1:'r'}\n",
    "fig,ax=plt.subplots()\n",
    "for i in range(data.shape[0]):\n",
    "    ax.scatter(data.x_1[i],data.x_2[i],color=colors[data.y[i]])\n",
    "plt.savefig('disturb.png')\n",
    "plt.show()"
   ]
  },
  {
   "cell_type": "code",
   "execution_count": 7,
   "metadata": {},
   "outputs": [
    {
     "name": "stdout",
     "output_type": "stream",
     "text": [
      "Empirical Risk:  0.025974025974025976\n",
      "Generalization Error: 0.08695652173913043\n"
     ]
    }
   ],
   "source": [
    "#q7\n",
    "def pocket(X,y,max_iter=1e3):\n",
    "    # Note: y should be -1 and 1 array!\n",
    "    w=np.random.rand(X.shape[1],1)\n",
    "    loss=np.sum(X.dot(w)*y<=0)\n",
    "    t=0\n",
    "    w_best=copy(w)\n",
    "    best_loss=loss\n",
    "    while loss!=0 and t<max_iter:\n",
    "        for i in range(X.shape[0]):\n",
    "            if X[i].dot(w)*y[i]<0:\n",
    "                w=w+y[i][0]*np.vstack(X[i])\n",
    "        loss=np.sum(X.dot(w)*y<=0)\n",
    "        if best_loss>loss:\n",
    "            w_best=copy(w)\n",
    "            best_loss=loss\n",
    "        t+=1\n",
    "    return w_best\n",
    "w=pocket(train_data,train_label,100)\n",
    "print(\"Empirical Risk: \",\n",
    "      np.sum(train_data.dot(w)*train_label<=0)/train_data.shape[0])\n",
    "print(\"Generalization Error:\", \n",
    "      np.sum(test_data.dot(w)*test_label<=0)/test_data.shape[0])"
   ]
  },
  {
   "cell_type": "code",
   "execution_count": 8,
   "metadata": {},
   "outputs": [
    {
     "name": "stdout",
     "output_type": "stream",
     "text": [
      "Empirical Risk:  0.2489637349068384\n",
      "Generalization Error:  0.3791819009413723\n",
      "0-1 loss model on training set: 0.03463203463203463\n",
      "0-1 loss model on testing set: 0.10144927536231885\n"
     ]
    }
   ],
   "source": [
    "def adaline(X,y,max_iter=1e4):\n",
    "    w=np.random.rand(X.shape[1],1)\n",
    "    i=0\n",
    "    while i<max_iter:\n",
    "         for i in range(X.shape[0]):\n",
    "            e=2*(X[i].dot(w)-y[i])/X.shape[0]\n",
    "            if e!=0:\n",
    "                w=w-e*np.vstack(X[i])\n",
    "    return w\n",
    "w=adaline(train_data,train_label,100)\n",
    "print(\"Empirical Risk: \",\n",
    "      np.sum((train_data.dot(w)-train_label)**2)/train_data.shape[0])\n",
    "print(\"Generalization Error: \",\n",
    "      np.sum((test_data.dot(w)-test_label)**2)/test_data.shape[0])\n",
    "\n",
    "print(\"0-1 loss model on training set:\", \n",
    "      np.sum(train_data.dot(w)*train_label<=0)/train_data.shape[0])\n",
    "print(\"0-1 loss model on testing set:\", \n",
    "      np.sum(test_data.dot(w)*test_label<=0)/test_data.shape[0])"
   ]
  },
  {
   "cell_type": "code",
   "execution_count": 52,
   "metadata": {
    "jupyter": {
     "source_hidden": true
    }
   },
   "outputs": [
    {
     "name": "stdout",
     "output_type": "stream",
     "text": [
      "Adaline :(-0.08695652173913039, -0.9333333333333333, 0.057971014492753624, 0.057971014492753624, -1, 0.0908212560386473); \n",
      "Pocket:(0.005797101449275363, -0.06666666666666665, 0.014492753623188406, 0.0, 1, 0.00676328502415459);\n"
     ]
    }
   ],
   "source": [
    "# q8: bootstrap replicate\n",
    "# First split data on training and testing again;\n",
    "split_at=round(0.77*data.shape[0])\n",
    "train_data,test_data=data.iloc[:split_at],data.iloc[split_at:]\n",
    "\n",
    "def bootstrap_replicates(data,k):\n",
    "    sets = []\n",
    "    m = data.shape[0]\n",
    "    for i in range(k):\n",
    "        train = np.random.default_rng().choice(data,axis=0,size=m)\n",
    "        test=set(map(tuple,data.to_numpy()))\n",
    "        test=test-set(map(tuple,train))\n",
    "        train_data=train[:,[0,1,3]]\n",
    "        train_label=np.vstack(train[:,2])\n",
    "        test=np.array(list(test))\n",
    "        test_data=test[:,[0,1,3]]\n",
    "        test_label=np.vstack(test[:,2])\n",
    "        sets.append((train_data,train_label,test_data,test_label))\n",
    "    return sets\n",
    "\n",
    "def predict(w,X):\n",
    "    res= X.dot(w)>0\n",
    "    res= 2*res-1\n",
    "    return res\n",
    "\n",
    "def true_f(X):\n",
    "    # Note: make sure in cell of 'q5' the accuracy of perceptron is  1.0;\n",
    "    return predict(w_perceptron,X)\n",
    "\n",
    "        \n",
    "# define h_bar : mode of h\n",
    "def pocket_h_bar(h,X):\n",
    "    y = np.zeros((X.shape[0],1))\n",
    "    for w in h:\n",
    "        y+= (predict(w,X)+1)/2     # note: predict has values in {-1,1}\n",
    "    return 2*np.round(y/len(h))-1\n",
    "\n",
    "# define h_bar : average of h\n",
    "def adaline_h_bar(h,X):\n",
    "    y = np.zeros((X.shape[0],1))\n",
    "    for w in h:\n",
    "        y+= X.dot(w)\n",
    "    y=(y>0)\n",
    "    return 2*np.round(y)-1\n",
    "\n",
    "def estimate_error(X,y,X_test,y_test,sets,algorithm,risk,h_bar,**args):\n",
    "    # X is all data in file, y is the corresponding noisy labels;\n",
    "    \n",
    "    # calculate h_s for each replicate\n",
    "    h=[]\n",
    "    for replicate in sets:\n",
    "        train_data,train_label,_,_=replicate\n",
    "        w=algorithm(train_data,train_label,**args)\n",
    "        h.append(w)    \n",
    "    \n",
    "    # Estimate the variance of model;\n",
    "    var=0.\n",
    "    for i in range(len(sets)):\n",
    "        var+=risk(h_bar(h,X_test),predict(h[i],X_test))\n",
    "    var/=len(sets)\n",
    "    \n",
    "    # Estimate the bias of the model;\n",
    "    bias=risk(true_f(X_test),h_bar(h,X_test))\n",
    "    \n",
    "    # Estimate the noise;\n",
    "    noise=risk(y_test,true_f(X_test))\n",
    "    \n",
    "    # calculate constant c_1= 2*P_S(h_S=true_f)-1\n",
    "    count=0\n",
    "    true_y=true_f(X)\n",
    "    for w in h:\n",
    "        if np.sum(np.abs(predict(w,X)-true_y))==0:\n",
    "            count+=1\n",
    "    count/=len(h)\n",
    "    c1=2*count-1\n",
    "    \n",
    "    # Calculate c_2 = 2*indicator(h_bar==true_f)-1\n",
    "    c2= 1 if  np.sum(np.abs(true_y-h_bar(h,X)))==0 else -1\n",
    "    \n",
    "    return c1*noise+bias+c2*var,c1,noise,bias,c2,var\n",
    "    \n",
    "X_test=test_data.drop('y',axis=1).to_numpy()\n",
    "y_test=np.reshape(test_data.y.to_numpy(),(X_test.shape[0],1)) \n",
    "# data: contains all data;\n",
    "X=data.drop('y',axis=1).to_numpy()\n",
    "y=np.reshape(data.y.to_numpy(),(X.shape[0],1)) \n",
    "\n",
    "sets=bootstrap_replicates(train_data,30)\n",
    "\n",
    "ada=estimate_error(X,y,X_test,y_test,sets,adaline,lambda x,y: np.sum((x-y)**2)/x.shape[0],adaline_h_bar,max_iter=200)\n",
    "poc=estimate_error(X,y,X_test,y_test,sets,pocket,lambda x,y: np.sum(x*y<=0)/x.shape[0],pocket_h_bar,max_iter=200)\n",
    "print(f\"Adaline :{ada}; \\nPocket:{poc};\")"
   ]
  },
  {
   "cell_type": "markdown",
   "metadata": {},
   "source": [
    "### The code above prints respectively:\n",
    "generalization error, c_1, noise, bias, c_2, variance"
   ]
  },
  {
   "cell_type": "code",
   "execution_count": 60,
   "metadata": {},
   "outputs": [],
   "source": [
    "#q17\n",
    "def armijo(w,grad,X,y,eps=0.5,eta=2.33):\n",
    "    alpha=1e-7\n",
    "    norm2=-np.sum(grad**2)\n",
    "    phi0=risk(w,X,y)\n",
    "    while risk(w-alpha*grad,X,y)    > eps*alpha*norm2+phi0:\n",
    "        alpha/=eta\n",
    "    while risk(w-alpha*grad,X,y)    <= eps*alpha*norm2+phi0:\n",
    "        alpha*=eta\n",
    "    return alpha/eta\n",
    "    \n",
    "def risk(w,X,y):\n",
    "    return np.sum(np.log(1+np.exp(-X.dot(w)*y)))/X.shape[0]\n",
    "\n",
    "def gradient_risk(w,X,y):\n",
    "    return np.vstack(-np.sum(X*y/(1+np.exp(X.dot(w)*y)),axis=0)/X.shape[0])\n",
    "\n",
    "def logistic_regression(X,y,delta=1e-4):\n",
    "    w=np.random.rand(X.shape[1],1)\n",
    "    grad=gradient_risk(w,X,y)\n",
    "    while np.linalg.norm(grad)>delta:\n",
    "        step=armijo(w,grad,X,y)\n",
    "        w=w-step*grad\n",
    "        grad=gradient_risk(w,X,y)\n",
    "    return w"
   ]
  },
  {
   "cell_type": "code",
   "execution_count": 15,
   "metadata": {},
   "outputs": [
    {
     "name": "stdout",
     "output_type": "stream",
     "text": [
      "Empirical risk: 0.17635746488669832\n",
      "Generalization error: 0.1968234013840082\n"
     ]
    }
   ],
   "source": [
    "w=logistic_regression(train_data,train_label)\n",
    "\n",
    "print('Empirical risk:',risk(w,train_data,train_label))\n",
    "print('Generalization error:',risk(w,test_data,test_label))\n",
    "\n",
    "# print(\"Accuracy of model on training set:\", \n",
    "#       np.sum(train_data.dot(w)*train_label>0)/train_data.shape[0])\n",
    "# print(\"Accuracy of model:\", \n",
    "#       np.sum(test_data.dot(w)*test_label>0)/test_data.shape[0])"
   ]
  },
  {
   "cell_type": "code",
   "execution_count": 23,
   "metadata": {},
   "outputs": [],
   "source": [
    "#q18\n",
    "def regularized_armijo(w,grad,X,y,lmd):\n",
    "    # Hyperparameters\n",
    "    eps=np.random.rand()\n",
    "    eta=1+np.random.rand()*5\n",
    "    alpha=1e-5\n",
    "    \n",
    "    norm2=-np.sum(grad**2)\n",
    "    phi0=regularized_risk(w,X,y,lmd)\n",
    "    while risk(w-alpha*grad,X,y)    > eps*alpha*norm2+phi0:\n",
    "        alpha/=eta\n",
    "    while risk(w-alpha*grad,X,y)    <= eps*alpha*norm2+phi0:\n",
    "        alpha*=eta\n",
    "    return alpha/eta\n",
    "\n",
    "def regularized_risk(w,X,y,lmd):\n",
    "    return np.sum(np.log(1+np.exp(-X.dot(w)*y)))/X.shape[0]+lmd*np.sum(w**2)/w.shape[0]\n",
    "\n",
    "def regularized_gradient_risk(w,X,y,lmd):\n",
    "    return np.vstack(-np.sum(X*y/(1+np.exp(X.dot(w)*y)),axis=0)/X.shape[0])+2*lmd*w/w.shape[0]\n",
    "\n",
    "def regularized_logistic_regression(X,y,delta=1e-4,lmd=1e-3):\n",
    "    w=np.random.rand(X.shape[1],1)\n",
    "    grad=regularized_gradient_risk(w,X,y,lmd)\n",
    "    while np.linalg.norm(grad)>delta:\n",
    "        step=armijo(w,grad,X,y,lmd)\n",
    "        w=w-step*grad\n",
    "        grad=regularized_gradient_risk(w,X,y,lmd)\n",
    "    print('Regularized Empirical risk:',regularized_risk(w,X,y,lmd))\n",
    "    return w"
   ]
  },
  {
   "cell_type": "code",
   "execution_count": 24,
   "metadata": {},
   "outputs": [
    {
     "name": "stdout",
     "output_type": "stream",
     "text": [
      "Regularized Empirical risk: 0.17735509977737007\n",
      "Empirical risk: 0.17647599157850816\n",
      "Generalization Error: 0.19727836570928547\n"
     ]
    }
   ],
   "source": [
    "w=regularized_logistic_regression(train_data,train_label)\n",
    "print('Empirical risk:',risk(w,train_data,train_label))\n",
    "print('Generalization Error:',risk(w,test_data,test_label))\n",
    "# print(\"Accuracy of model on training set:\", \n",
    "#       np.sum(train_data.dot(w)*train_label>0)/train_data.shape[0])\n",
    "# print(\"Accuracy of model:\", \n",
    "#       np.sum(test_data.dot(w)*test_label>0)/test_data.shape[0])"
   ]
  }
 ],
 "metadata": {
  "kernelspec": {
   "display_name": "Python 3",
   "language": "python",
   "name": "python3"
  },
  "language_info": {
   "codemirror_mode": {
    "name": "ipython",
    "version": 3
   },
   "file_extension": ".py",
   "mimetype": "text/x-python",
   "name": "python",
   "nbconvert_exporter": "python",
   "pygments_lexer": "ipython3",
   "version": "3.8.5"
  }
 },
 "nbformat": 4,
 "nbformat_minor": 4
}
